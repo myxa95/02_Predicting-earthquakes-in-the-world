{
 "cells": [
  {
   "cell_type": "code",
   "execution_count": null,
   "metadata": {},
   "outputs": [],
   "source": [
    "import pandas as pd\n",
    "import matplotlib.pyplot as plt\n",
    "import seaborn as sns\n",
    "import numpy as np\n",
    "import math\n",
    "\n",
    "from sklearn.model_selection import train_test_split, RandomizedSearchCV, KFold\n",
    "from sklearn.ensemble import RandomForestRegressor, GradientBoostingRegressor\n",
    "from sklearn.tree import DecisionTreeRegressor\n",
    "from sklearn.metrics import mean_squared_error\n",
    "from sklearn.svm import SVR \n",
    "from sklearn.preprocessing import LabelEncoder\n",
    "from sklearn.multioutput import MultiOutputRegressor\n",
    "\n",
    "import sys\n",
    "import os\n",
    "from tqdm import tqdm\n",
    "\n",
    "RAND = 10\n",
    "N_FOLDS = 3\n",
    "N_ITER = 300\n",
    "\n",
    "backend_path = os.path.abspath('../backend')\n",
    "sys.path.append(backend_path)\n",
    "from get_metrics import get_metrics_regression, get_metrics_classification\n",
    "from check_overfitting import check_overfitting"
   ]
  },
  {
   "cell_type": "code",
   "execution_count": null,
   "metadata": {},
   "outputs": [],
   "source": [
    "# Чтение DataFrame df в файл data/df.csv\n",
    "df = pd.read_csv('../data/df.csv')"
   ]
  },
  {
   "cell_type": "code",
   "execution_count": null,
   "metadata": {},
   "outputs": [],
   "source": [
    "df.info()"
   ]
  },
  {
   "cell_type": "code",
   "execution_count": null,
   "metadata": {},
   "outputs": [],
   "source": [
    "# создаем LabelEncoder для кодирования категориальных значений\n",
    "#le = LabelEncoder()\n",
    "# кодирование колонки 'country'\n",
    "#le.fit(df['country'])  # обучаем энкодер на df\n",
    "#df['country'] = le.fit_transform(df['country'])"
   ]
  },
  {
   "cell_type": "markdown",
   "metadata": {},
   "source": [
    "# разделение данных train_test_split"
   ]
  },
  {
   "cell_type": "code",
   "execution_count": null,
   "metadata": {},
   "outputs": [],
   "source": [
    "# признаки\n",
    "X = df[['milliseconds', 'significance', 'country', 'depth', 'year', 'month', 'day', 'hour', 'minute', 'second']]\n",
    "\n",
    "# целевые переменные\n",
    "y = df[['magnitude', 'longitude', 'latitude']]\n",
    "\n",
    "X_train, X_test, y_train, y_test = train_test_split(X,\n",
    "                                                    y,\n",
    "                                                    test_size=0.2,\n",
    "                                                    random_state=RAND)\n"
   ]
  },
  {
   "cell_type": "code",
   "execution_count": null,
   "metadata": {},
   "outputs": [],
   "source": [
    "# создаем LabelEncoder для кодирования категориальных значений\n",
    "le = LabelEncoder()\n",
    "\n",
    "# обучаем le на тренировочных и тестовых данных\n",
    "le.fit(np.concatenate((X_train['country'], X_test['country'])))\n",
    "\n",
    "# кодирование колонки 'country' для обучения моделей\n",
    "X_train['country'] = le.transform(X_train['country'])\n",
    "X_test['country'] = le.transform(X_test['country'])"
   ]
  },
  {
   "cell_type": "markdown",
   "metadata": {},
   "source": [
    "# Baseline "
   ]
  },
  {
   "cell_type": "markdown",
   "metadata": {},
   "source": [
    "## RandomForestRegressor"
   ]
  },
  {
   "cell_type": "code",
   "execution_count": null,
   "metadata": {},
   "outputs": [],
   "source": [
    "# модель RandomForestRegressor\n",
    "rfr = RandomForestRegressor(n_jobs=-1, random_state=RAND)\n",
    "# обучаем модель\n",
    "rfr.fit(X_train, y_train)\n",
    "# предсказания на test \n",
    "y_pred_rfr = rfr.predict(X_test)"
   ]
  },
  {
   "cell_type": "code",
   "execution_count": null,
   "metadata": {},
   "outputs": [],
   "source": [
    "# проверка на переобучение модели RandomForestRegressor\n",
    "check_overfitting(rfr, X_train, y_train, X_test, y_test, mean_squared_error)"
   ]
  },
  {
   "cell_type": "code",
   "execution_count": null,
   "metadata": {},
   "outputs": [],
   "source": [
    "# просмотр метрик модели RandomForestRegressor обученной на train\n",
    "metrics = get_metrics_regression(y_test,\n",
    "                                 y_pred = y_pred_rfr,\n",
    "                                 X_test = X_test,\n",
    "                                 name='RandomForestRegressor_Baseline')\n",
    "metrics"
   ]
  },
  {
   "cell_type": "markdown",
   "metadata": {},
   "source": [
    "## DecisionTreeRegressor"
   ]
  },
  {
   "cell_type": "code",
   "execution_count": null,
   "metadata": {},
   "outputs": [],
   "source": [
    "# модель DecisionTreeRegressor\n",
    "dtr = DecisionTreeRegressor(random_state=RAND)\n",
    "# обучаем модель\n",
    "dtr.fit(X_train, y_train)\n",
    "# предсказания на test \n",
    "y_pred_dtr = dtr.predict(X_test)"
   ]
  },
  {
   "cell_type": "code",
   "execution_count": null,
   "metadata": {},
   "outputs": [],
   "source": [
    "# проверка на переобучение модели DecisionTreeRegressor\n",
    "check_overfitting(dtr, X_train, y_train, X_test, y_test, mean_squared_error)"
   ]
  },
  {
   "cell_type": "code",
   "execution_count": null,
   "metadata": {},
   "outputs": [],
   "source": [
    "# просмотр метрик модели DecisionTreeRegressor обученной на train\n",
    "metrics = pd.concat([\n",
    "    metrics,\n",
    "    get_metrics_regression(y_test,\n",
    "                           y_pred = y_pred_dtr,\n",
    "                           X_test = X_test,\n",
    "                           name='DecisionTreeRegressor_Baseline')])\n",
    "metrics"
   ]
  },
  {
   "cell_type": "markdown",
   "metadata": {},
   "source": [
    "## GradientBoostingRegressor"
   ]
  },
  {
   "cell_type": "code",
   "execution_count": null,
   "metadata": {},
   "outputs": [],
   "source": [
    "# модель GradientBoostingRegressor\n",
    "gbr = MultiOutputRegressor(GradientBoostingRegressor(random_state=RAND)) \n",
    "# обучаем модель\n",
    "gbr.fit(X_train, y_train)\n",
    "# предсказания на test \n",
    "y_pred_gbr = gbr.predict(X_test)\n"
   ]
  },
  {
   "cell_type": "code",
   "execution_count": null,
   "metadata": {},
   "outputs": [],
   "source": [
    "# проверка на переобучение модели GradientBoostingRegressor\n",
    "check_overfitting(gbr, X_train, y_train, X_test, y_test, mean_squared_error)"
   ]
  },
  {
   "cell_type": "code",
   "execution_count": null,
   "metadata": {},
   "outputs": [],
   "source": [
    "# просмотр метрик модели GradientBoostingRegressor обученной на train\n",
    "metrics = pd.concat([\n",
    "    metrics,\n",
    "    get_metrics_regression(y_test,\n",
    "                           y_pred = y_pred_gbr,\n",
    "                           X_test = X_test,\n",
    "                           name='GradientBoostingRegressor_Baseline')])\n",
    "metrics"
   ]
  },
  {
   "cell_type": "markdown",
   "metadata": {},
   "source": [
    "# RandomizedSearchCV  "
   ]
  },
  {
   "cell_type": "markdown",
   "metadata": {},
   "source": [
    "## RandomForestRegressor & KFold"
   ]
  },
  {
   "cell_type": "code",
   "execution_count": null,
   "metadata": {},
   "outputs": [],
   "source": [
    "# сетка параметров\n",
    "param_grid = {\n",
    "    'n_estimators': [100, 500, 1000],\n",
    "    'max_depth': [None, 5, 10],\n",
    "    'min_samples_split': [2, 5, 10],\n",
    "    'min_samples_leaf': [1, 2, 3],\n",
    "    'min_weight_fraction_leaf': [0.0, 0.1, 0.5],\n",
    "    'max_features': [1 , 5 , 10],\n",
    "    'bootstrap': [True, False],\n",
    "}\n",
    "\n",
    "# расчет количества моделей\n",
    "num_models = math.prod(len(values) for values in param_grid.values())\n",
    "\n",
    "print(f\"Количество моделей для обучения: {num_models}\")"
   ]
  },
  {
   "cell_type": "code",
   "execution_count": null,
   "metadata": {},
   "outputs": [],
   "source": [
    "# модель RandomForestRegressor\n",
    "rfr = RandomForestRegressor(random_state=RAND, n_jobs=-1)\n",
    "\n",
    "# Создание KFold\n",
    "kf = KFold(n_splits=N_FOLDS, shuffle=True, random_state=RAND)\n",
    "\n",
    "# модель RandomizedSearchCV\n",
    "rsCV = RandomizedSearchCV(rfr, param_grid, cv=kf, n_iter=N_ITER, n_jobs=-1, error_score='raise',  random_state=RAND)\n",
    "\n",
    "# производим обучение по сетке\n",
    "rsCV.fit(X_train, y_train)"
   ]
  },
  {
   "cell_type": "code",
   "execution_count": null,
   "metadata": {},
   "outputs": [],
   "source": [
    "# просмотр параметров\n",
    "best_params_rfr = rsCV.best_params_\n",
    "print(best_params_rfr)\n",
    "print(rsCV.best_score_)"
   ]
  },
  {
   "cell_type": "code",
   "execution_count": null,
   "metadata": {},
   "outputs": [],
   "source": [
    "# модель RandomForestRegressor с лучшими параметрами\n",
    "rfr_best_params = RandomForestRegressor(**best_params_rfr, random_state=RAND)\n",
    "# обучаем модель\n",
    "rfr_best_params.fit(X_train, y_train)\n",
    "# предсказания на test \n",
    "y_pred_rfr_best_params = rfr_best_params.predict(X_test)"
   ]
  },
  {
   "cell_type": "code",
   "execution_count": null,
   "metadata": {},
   "outputs": [],
   "source": [
    "# проверка на переобучение модели RandomForestRegressor с лучшими параметрами\n",
    "check_overfitting(rfr_best_params, X_train, y_train, X_test, y_test, mean_squared_error)"
   ]
  },
  {
   "cell_type": "code",
   "execution_count": null,
   "metadata": {},
   "outputs": [],
   "source": [
    "# просмотр метрик модели RandomForestRegressor обученной на train с лучшими параметрами\n",
    "metrics = pd.concat([\n",
    "    metrics,\n",
    "    get_metrics_regression(y_test,\n",
    "                           y_pred = y_pred_rfr_best_params,\n",
    "                           X_test = X_test,\n",
    "                           name='RandomForestRegressor_best_params')])\n",
    "metrics"
   ]
  },
  {
   "cell_type": "markdown",
   "metadata": {},
   "source": [
    "## DecisionTreeRegressor"
   ]
  },
  {
   "cell_type": "code",
   "execution_count": null,
   "metadata": {},
   "outputs": [],
   "source": [
    "# сетка параметров\n",
    "param_grid = {\n",
    "    'splitter': ['best', 'random'],\n",
    "    'max_depth': [None, 5, 10],\n",
    "    'min_samples_split': [2, 5, 10],\n",
    "    'min_samples_leaf': [1, 2, 3],\n",
    "    'min_weight_fraction_leaf': [0.0, 0.1, 0.5],\n",
    "    'max_features': [1 , 5 , 10],\n",
    "    'max_leaf_nodes':[None, 0, 5]\n",
    "}\n",
    "\n",
    "# расчет количества моделей\n",
    "num_models = math.prod(len(values) for values in param_grid.values())\n",
    "\n",
    "print(f\"Количество моделей для обучения: {num_models}\")"
   ]
  },
  {
   "cell_type": "code",
   "execution_count": null,
   "metadata": {},
   "outputs": [],
   "source": [
    "# модель DecisionTreeRegressor\n",
    "dtr = DecisionTreeRegressor(random_state=RAND)\n",
    "\n",
    "# Создание KFold\n",
    "kf = KFold(n_splits=N_FOLDS, shuffle=True, random_state=RAND)\n",
    "\n",
    "# модель RandomizedSearchCV\n",
    "rsCV = RandomizedSearchCV(dtr, param_grid, cv=kf, n_iter=N_ITER, n_jobs=-1, error_score='raise',  random_state=RAND)\n",
    "\n",
    "# производим обучение по сетке\n",
    "rsCV.fit(X_train, y_train)"
   ]
  },
  {
   "cell_type": "code",
   "execution_count": null,
   "metadata": {},
   "outputs": [],
   "source": [
    "# просмотр параметров\n",
    "best_params_dtr = rsCV.best_params_\n",
    "print(best_params_dtr)\n",
    "print(rsCV.best_score_)"
   ]
  },
  {
   "cell_type": "code",
   "execution_count": null,
   "metadata": {},
   "outputs": [],
   "source": [
    "# модель DecisionTreeRegressor лучшими параметрами\n",
    "dtr_best_params = DecisionTreeRegressor(**best_params_dtr, random_state=RAND)\n",
    "# обучаем модель\n",
    "dtr_best_params.fit(X_train, y_train)\n",
    "# предсказания на test \n",
    "y_pred_dtr_best_params = dtr_best_params.predict(X_test)"
   ]
  },
  {
   "cell_type": "code",
   "execution_count": null,
   "metadata": {},
   "outputs": [],
   "source": [
    "# проверка на переобучение модели DecisionTreeRegressor с лучшими параметрами\n",
    "check_overfitting(dtr_best_params, X_train, y_train, X_test, y_test, mean_squared_error)"
   ]
  },
  {
   "cell_type": "code",
   "execution_count": null,
   "metadata": {},
   "outputs": [],
   "source": [
    "# просмотр метрик модели DecisionTreeRegressor обученной на train с лучшими параметрами\n",
    "metrics = pd.concat([\n",
    "    metrics,\n",
    "    get_metrics_regression(y_test,\n",
    "                           y_pred = y_pred_dtr_best_params,\n",
    "                           X_test = X_test,\n",
    "                           name='DecisionTreeRegressor_best_params')])\n",
    "metrics"
   ]
  },
  {
   "cell_type": "markdown",
   "metadata": {},
   "source": [
    "## GradientBoostingRegressor"
   ]
  },
  {
   "cell_type": "code",
   "execution_count": null,
   "metadata": {},
   "outputs": [],
   "source": [
    "# сетка параметров\n",
    "param_grid = {\n",
    "    'estimator__learning_rate': [0,1, 0,5, 1],\n",
    "    'estimator__n_estimators': [100, 500, 1000],\n",
    "    'estimator__subsample': [0.0, 0.5, 1.0],\n",
    "    'estimator__min_samples_split': [2, 5, 10],\n",
    "    'estimator__min_samples_leaf': [1, 2, 3],\n",
    "    'estimator__min_weight_fraction_leaf': [0.0, 0.1, 0.5],\n",
    "    'estimator__max_depth': [None, 5, 10],\n",
    "}\n",
    "\n",
    "# расчет количества моделей\n",
    "num_models = math.prod(len(values) for values in param_grid.values())\n",
    "\n",
    "print(f\"Количество моделей для обучения: {num_models}\")"
   ]
  },
  {
   "cell_type": "code",
   "execution_count": null,
   "metadata": {},
   "outputs": [],
   "source": [
    "# модель GradientBoostingRegressor\n",
    "gbr = MultiOutputRegressor(GradientBoostingRegressor(random_state=RAND))\n",
    "\n",
    "# Создание KFold\n",
    "kf = KFold(n_splits=N_FOLDS, shuffle=True, random_state=RAND)\n",
    "\n",
    "# модель RandomizedSearchCV\n",
    "rsCV = RandomizedSearchCV(gbr, param_grid, cv=kf, n_iter=N_ITER, n_jobs=-1, error_score='raise', random_state=RAND)\n",
    "\n",
    "# производим обучение по сетке\n",
    "rsCV.fit(X_train, y_train)"
   ]
  },
  {
   "cell_type": "code",
   "execution_count": null,
   "metadata": {},
   "outputs": [],
   "source": [
    "# просмотр параметров\n",
    "best_params_gbr = rsCV.best_params_\n",
    "print(best_params_gbr)\n",
    "print(rsCV.best_score_)"
   ]
  },
  {
   "cell_type": "code",
   "execution_count": null,
   "metadata": {},
   "outputs": [],
   "source": [
    "# модель GradientBoostingRegressor лучшими параметрами\n",
    "gbr_best_params = MultiOutputRegressor(GradientBoostingRegressor(**{k.replace('estimator__', ''): v for k, v in best_params_gbr.items()}, random_state=RAND))\n",
    "# обучаем модель\n",
    "gbr_best_params.fit(X_train, y_train)\n",
    "# предсказания на test \n",
    "y_pred_gbr_best_params = gbr_best_params.predict(X_test)"
   ]
  },
  {
   "cell_type": "code",
   "execution_count": null,
   "metadata": {},
   "outputs": [],
   "source": [
    "# проверка на переобучение модели GradientBoostingRegressor с лучшими параметрами\n",
    "check_overfitting(gbr_best_params, X_train, y_train, X_test, y_test, mean_squared_error)"
   ]
  },
  {
   "cell_type": "code",
   "execution_count": null,
   "metadata": {},
   "outputs": [],
   "source": [
    "# просмотр метрик модели GradientBoostingRegressor обученной на train с лучшими параметрами\n",
    "metrics = pd.concat([\n",
    "    metrics,\n",
    "    get_metrics_regression(y_test,\n",
    "                           y_pred = y_pred_gbr_best_params,\n",
    "                           X_test = X_test,\n",
    "                           name='GradientBoostingRegressor_best_params')])\n",
    "metrics"
   ]
  },
  {
   "cell_type": "code",
   "execution_count": null,
   "metadata": {},
   "outputs": [],
   "source": [
    "#X = scaler.inverse_transform(X_scaled)"
   ]
  },
  {
   "cell_type": "code",
   "execution_count": null,
   "metadata": {},
   "outputs": [],
   "source": [
    "# декодирование колонки 'country'\n",
    "#X_train['country'] = le.inverse_transform(X_train['country'])\n",
    "#X_test['country'] = le.inverse_transform(X_test['country'])"
   ]
  },
  {
   "cell_type": "code",
   "execution_count": null,
   "metadata": {},
   "outputs": [],
   "source": []
  },
  {
   "cell_type": "code",
   "execution_count": null,
   "metadata": {},
   "outputs": [],
   "source": []
  }
 ],
 "metadata": {
  "kernelspec": {
   "display_name": "Python 3",
   "language": "python",
   "name": "python3"
  },
  "language_info": {
   "codemirror_mode": {
    "name": "ipython",
    "version": 3
   },
   "file_extension": ".py",
   "mimetype": "text/x-python",
   "name": "python",
   "nbconvert_exporter": "python",
   "pygments_lexer": "ipython3",
   "version": "3.11.2"
  }
 },
 "nbformat": 4,
 "nbformat_minor": 2
}
